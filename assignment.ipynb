{
 "cells": [
  {
   "cell_type": "markdown",
   "metadata": {},
   "source": [
    "Assignment: 1"
   ]
  },
  {
   "cell_type": "code",
   "execution_count": 24,
   "metadata": {},
   "outputs": [
    {
     "name": "stdout",
     "output_type": "stream",
     "text": [
      "The directors who are not emplotees:  {'Troels', 'Torben', 'Søren', 'Benny', 'Hans', 'Mille'}\n",
      "The directors who are emploees:  {'Tine'}\n",
      "number of people who are both manager and director 1\n",
      "Managers are also employees?:  True\n",
      "Are all managers directors?:  False\n",
      "Who is an employee, member of the management, and a member of the board?:  {'Tine'}\n",
      "Who of the employees is neither a memeber or the board or management?:  {'James', 'Stine', 'Anna', 'Ole', 'Bent', 'Claus', 'Allan', 'Lars', 'Niels'}\n"
     ]
    }
   ],
   "source": [
    "bordOfDirectoros = {\"Benny\", \"Hans\", \"Tine\", \"Mille\", \"Torben\", \"Troels\", \"Søren\"}\n",
    "\n",
    "management = {\"Tine\", \"Trunte\", \"Rane\"}\n",
    "\n",
    "employees = {\"Niels\", \"Anna\", \"Tine\", \"Ole\", \"Trunte\", \"Bent\", \"Rane\", \"Allan\", \"Stine\", \"Claus\", \"James\", \"Lars\"}\n",
    "\n",
    "#who in the board of directors is not an employee?\n",
    "dif = bordOfDirectoros.difference(employees)\n",
    "print(\"The directors who are not emplotees: \",  dif)\n",
    "\n",
    "#who in the board of directors is also an employee?\n",
    "inter1 = bordOfDirectoros.intersection(employees)\n",
    "print(\"The directors who are emploees: \" ,inter1)\n",
    "\n",
    "#how many of the management is also member of the board?\n",
    "inter2 = management.intersection(bordOfDirectoros)\n",
    "print( \"number of people who are both manager and director\",len(inter2))\n",
    "\n",
    "#All members of the managent also an employee\n",
    "sub1 = management.issubset(employees)\n",
    "print(\"Managers are also employees?: \" ,sub1)\n",
    "\n",
    "#All members of the management also in the board?\n",
    "sub2 = management.issubset(bordOfDirectoros)\n",
    "print(\"Are all managers directors?: \" ,sub2)\n",
    "\n",
    "#Who is an employee, member of the management, and a member of the board?\n",
    "inter3 = employees.intersection(management, bordOfDirectoros)\n",
    "print(\"Who is an employee, member of the management, and a member of the board?: \", inter3)\n",
    "\n",
    "#Who of the employees is neither a memeber or the board or management?\n",
    "dif3 = employees.difference(management, bordOfDirectoros)\n",
    "print( \"Who of the employees is neither a memeber or the board or management?: \", dif3)\n",
    "\n"
   ]
  },
  {
   "cell_type": "markdown",
   "metadata": {},
   "source": [
    "Assignmment 2"
   ]
  },
  {
   "cell_type": "code",
   "execution_count": 27,
   "metadata": {},
   "outputs": [
    {
     "name": "stdout",
     "output_type": "stream",
     "text": [
      "dict_items([('a', 'alpha'), ('b', 'beta'), ('g ', 'gamma')])\n"
     ]
    }
   ],
   "source": [
    "#Create a list of tuples from the folowing datastructure: {‘a’: ‘Alpha’, ‘b’ : ‘Beta’, ‘g’: ‘Gamma’}\n",
    "\n",
    "dict1 = {\n",
    "    \"a\": \"alpha\",\n",
    "    \"b\": \"beta\",\n",
    "    \"g \": \"gamma\"\n",
    "}\n",
    "\n",
    "tuple1 = dict1.items()\n",
    "print(tuple1)"
   ]
  }
 ],
 "metadata": {
  "kernelspec": {
   "display_name": "Python 3",
   "language": "python",
   "name": "python3"
  },
  "language_info": {
   "codemirror_mode": {
    "name": "ipython",
    "version": 3
   },
   "file_extension": ".py",
   "mimetype": "text/x-python",
   "name": "python",
   "nbconvert_exporter": "python",
   "pygments_lexer": "ipython3",
   "version": "3.11.4"
  },
  "orig_nbformat": 4
 },
 "nbformat": 4,
 "nbformat_minor": 2
}
